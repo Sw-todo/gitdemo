{
 "cells": [
  {
   "cell_type": "markdown",
   "metadata": {},
   "source": [
    "## 现代程序设计作业\n",
    "### 180814 孙文 18377249\n",
    "#### 实验目标\n",
    "    建立联系人以及各相关的信息的操作对象并构建相关的操作方法。\n",
    "#### 实验任务\n",
    "*  建立联系人类\n",
    "*  建立头像类\n",
    "*  基于上述两类建立通讯簿类\n",
    "*  建立测试用的test类"
   ]
  },
  {
   "cell_type": "markdown",
   "metadata": {
    "pycharm": {
     "name": "#%% md\n"
    }
   },
   "source": [
    "* 用到的库"
   ]
  },
  {
   "cell_type": "code",
   "execution_count": 54,
   "metadata": {
    "pycharm": {
     "name": "#%%\n"
    }
   },
   "outputs": [],
   "source": [
    "import time\n",
    "from faker import Faker"
   ]
  },
  {
   "cell_type": "markdown",
   "metadata": {
    "pycharm": {
     "name": "#%% md\n"
    }
   },
   "source": [
    "#### 具体步骤\n",
    "——————————————————————————————————————————————————————————————————————————————————————————————————————\n",
    "\n",
    "##### （一）建立联系人类\n",
    "分析：\n",
    "* 联系人有姓名、电话、邮箱、头像等为不可缺少的属性，所以在init的时候将这些属性加入\n",
    "* 基于这些属性，我们需要修改、展示以及查询等操作，也用相应的方法实现\n",
    "* 联系人的编号可以由类变量实现，欸创造一个联系人，编号加一即可\n",
    "##### 代码如下"
   ]
  },
  {
   "cell_type": "code",
   "execution_count": 55,
   "metadata": {
    "pycharm": {
     "name": "#%%\n"
    }
   },
   "outputs": [],
   "source": [
    "class Liaison:\n",
    "    \"\"\"联系人类，包括联系人的编号，姓名，典话，邮件，头像；\n",
    "    包括更新属性、获取属性的方法\n",
    "    \"\"\"\n",
    "    id=1\n",
    "    def __init__( self, name, tel, email, profile):\n",
    "        '''联系人的id编号\n",
    "\n",
    "        :param name: 字符串，姓名\n",
    "        :param tel: 字符串，电话\n",
    "        :param email: 字符串，邮箱\n",
    "        :param profile: 结构体，由后续profile类实现创造\n",
    "        '''\n",
    "        self.id=Liaison.id\n",
    "        Liaison.id += 1\n",
    "        self.name = name\n",
    "        self.tel = tel\n",
    "        self.email = email\n",
    "        self.profile = profile\n",
    "    def update(self, item, new_attri):\n",
    "        \"\"\"\n",
    "\n",
    "        :param item: 字符串，要求更新的属性名\n",
    "        :param new_attri: 新的属性值\n",
    "        :return:\n",
    "        \"\"\"\n",
    "        setattr(self,item,new_attri)\n",
    "    def get_name(self):\n",
    "        \"\"\"查找实例的name属性，相似的get_tel,get_email,get_profile皆是类似的功能。\n",
    "\n",
    "        :return: 示例的name属性\n",
    "        \"\"\"\n",
    "        return self.name\n",
    "    def get_tel(self):\n",
    "        return self.tel\n",
    "    def get_email(self):\n",
    "        return self.email\n",
    "    def get_profile(self):\n",
    "        return self.profile\n",
    "    def show(self):\n",
    "        '''按照一定格式输出各个属性。\n",
    "\n",
    "        :return:\n",
    "        '''\n",
    "        print(f'id:{self.id}; name:{self.get_name()}; tel:{self.get_tel()}; email:{self.get_email()}; profile:{self.get_profile()};')"
   ]
  },
  {
   "cell_type": "markdown",
   "metadata": {
    "pycharm": {
     "name": "#%% md\n"
    }
   },
   "source": [
    "###### PS：创建头像类\n",
    "分析：\n",
    "* 在此并不给出头像的读取显示等操作，仅仅是头像的路径、长和宽这些基本属性\n",
    "* 基于上述属性，需要获取和更新头像属性等方法\n",
    "###### 代码如下："
   ]
  },
  {
   "cell_type": "code",
   "execution_count": 56,
   "metadata": {
    "pycharm": {
     "name": "#%%\n"
    }
   },
   "outputs": [],
   "source": [
    "class Profile:\n",
    "    '''\n",
    "    头像类，包括图片路径、长和宽等属性。包括属性更新以及获取方法。\n",
    "    '''\n",
    "    def __init__(self,path,length,width):\n",
    "        self.path = path\n",
    "        self.length =length\n",
    "        self.width =width\n",
    "    def update(self,item,new_attri):\n",
    "        setattr(self,item,new_attri)\n",
    "\n",
    "    def get_length(self):\n",
    "        return self.length\n",
    "    def get_width(self):\n",
    "        return self.width\n",
    "    def get_path(self):\n",
    "        return self.path"
   ]
  },
  {
   "cell_type": "markdown",
   "metadata": {
    "pycharm": {
     "name": "#%% md\n"
    }
   },
   "source": [
    "##### （二）建立通讯录类\n",
    "分析：\n",
    "* 将一大批联系人综合到一起，并且记录各个联系人的更新以及加入时间\n",
    "* 需要建立起联系人查找、更新、新增等操作\n",
    "* 因为id的可变性以及难以辨识性，在此仅提供通过姓名、邮箱和电话进行查询和联系人的更新\n",
    "* 更新之后需要改变联系人的更新时间\n",
    "* 需要提供正反向的排序操作\n",
    "###### 代码如下："
   ]
  },
  {
   "cell_type": "code",
   "execution_count": 57,
   "metadata": {
    "pycharm": {
     "name": "#%%\n"
    }
   },
   "outputs": [],
   "source": [
    "class AddressBook:\n",
    "    '''\n",
    "    通讯簿类，包含联系人数目、联系人列表（包含联系人加入时间，\n",
    "        更新时间）等属性，以及加入新联系人（重复典话或邮件不能加入）\n",
    "        更新联系人（不存在时提醒），搜索（可按姓名、电话、右减分别搜索）\n",
    "        联系人排序输出（可按姓名，电话，右减进行升降序排列）\n",
    "    '''\n",
    "    def __init__(self,insert_time=0,update_time=0,*args):\n",
    "        \"\"\"初始化，若加入联系人，默认联系人加入和更新时间都为0\n",
    "\n",
    "        :param insert_time:时间字符串，加入通讯簿时间\n",
    "        :param update_time:时间字符串，联系人更改时间\n",
    "        :param args:不定长参数，为各个Liaison实例对象\n",
    "        \"\"\"\n",
    "        self.number=len(args)\n",
    "        self.data= []\n",
    "        for i in args:\n",
    "            self.data.append({\"Liaison\":i,\"insert_time\":insert_time,\"update_time\":update_time})\n",
    "    def add_contact(self,Liaison,now=True,insert_time=0,update_time=0):\n",
    "        '''在通讯录中已经存在电话或邮箱的时候拒绝插入\n",
    "\n",
    "        :param Liaison: Liaison类产生的结构体，联系人\n",
    "        :param now: 布尔值，插入和更新时间是否为现在值，默认为系统操作时的时间\n",
    "        :param insert_time: 字符串，联系人加入时间，在now==true时，不使用\n",
    "        :param update_time: 字符串，联系人上次更新时间，在now==true时，不使用\n",
    "        :return:\n",
    "        '''\n",
    "        time_now=time.strftime('%Y-%m-%d %H:%M:%S')\n",
    "        email=Liaison.get_email()\n",
    "        tel=Liaison.get_tel()\n",
    "        email_yet=[j[\"Liaison\"].get_email() for j in self.data]\n",
    "        tel_yet=[j[\"Liaison\"].get_tel() for j in self.data]\n",
    "        if ((Liaison.get_tel() not in tel_yet) & (Liaison.get_email() not in email_yet) ):\n",
    "            if now:\n",
    "                self.data.append({\"Liaison\":Liaison,\"insert_time\":time_now,\"update_time\":time_now})\n",
    "                self.number+=1\n",
    "            else:\n",
    "                self.data.append({\"Liaison\":Liaison,\"insert_time\":insert_time,\"update_time\":update_time})\n",
    "                self.number+=1\n",
    "        else:\n",
    "            print(f\"Insert liaison: {Liaison.get_name()} failed,he or she is already in the address book\")\n",
    "    def search_byname(self,name):\n",
    "        '''实现按照姓名查询的功能，search_##皆实现类似的功能,注意在找不到时不会报错，而会返回空列表\n",
    "\n",
    "        :param name: 字符串，姓名值\n",
    "        :return: 字典列表，存储找到的符合姓名值的Liaison以及对应的插入时间和更新时间\n",
    "        '''\n",
    "        return list(item for item in self.data if item.get(\"Liaison\").get_name()==name)\n",
    "    def search_byemail(self,email):\n",
    "        return list(item for item in self.data if item.get(\"Liaison\").get_email()==email)\n",
    "    def search_bytel(self,tel):\n",
    "        return list(item for item in self.data if item.get(\"Liaison\").get_tel()==tel)\n",
    "    def update_byname(self,name,item,new_attri):\n",
    "        '''更新联系人，按照name匹配并更新相应的属性值，update_##皆实现类似功能。\n",
    "\n",
    "        :param name: 字符串，姓名，表示按照姓名搜索更新\n",
    "        :param item: 字符串，要更新的属性名称\n",
    "        :param new_attri: 字符串，新的属性值\n",
    "        :return:\n",
    "        '''\n",
    "        finded=self.search_byname(name)\n",
    "        if(len(finded) == 0):\n",
    "            print(f\"Update failed,no liaison called {name}\")\n",
    "        else:\n",
    "            finded[0][\"Liaison\"].update(item,new_attri)\n",
    "            finded[0][\"update_time\"]=time.strftime('%Y-%m-%d %H:%M:%S')\n",
    "    def update_byemail(self,email,item,new_attri):\n",
    "        finded=self.search_byemail(email)\n",
    "        if(len(finded) == 0):\n",
    "            print(f\"Update failed,no liaison's email is {email}\")\n",
    "        else:\n",
    "            finded[0][\"Liaison\"].update(item,new_attri)\n",
    "            finded[0][\"update_time\"]=time.strftime('%Y-%m-%d %H:%M:%S')\n",
    "    def update_bytel(self,tel,item,new_attri):\n",
    "        finded=self.search_bytel(tel)\n",
    "        if(len(finded) == 0):\n",
    "            print(f\"Update failed,no liaison's tel is {tel}\")\n",
    "        else:\n",
    "            finded[0][\"Liaison\"].update(item,new_attri)\n",
    "            finded[0][\"update_time\"]=time.strftime('%Y-%m-%d %H:%M:%S')\n",
    "    def sort_byitem(self,item,reverse=False):\n",
    "        '''\n",
    "\n",
    "        :param item: 字符串，排列的依据\n",
    "        :param reverse: 布尔值，排序方式：升序或降序\n",
    "        :return:\n",
    "        '''\n",
    "        def keys(dic):\n",
    "            return dic[\"Liaison\"].__getattribute__(item)\n",
    "        self.data.sort(key = keys,reverse=reverse)\n",
    "        for i in self.data:\n",
    "            j=i[\"Liaison\"]\n",
    "            print(f\"id: {j.id}; name: { j.get_name() }; tel: {j.get_tel()}; email:{j.get_email()}\")\n",
    "    def load(self,path):\n",
    "        '''载入文件\n",
    "\n",
    "        :param path: 字符串，文件路径\n",
    "        :return:\n",
    "        '''\n",
    "        with open(path,\"r\") as f:\n",
    "            data=f.read().split(\"\\n\")\n",
    "            for j in data:\n",
    "                i=j.split(\"\\t\")\n",
    "                if(len(i)>1):\n",
    "                    self.add_contact(Liaison(i[1],i[2],i[3],i[4]),now=False,insert_time=i[5],update_time=i[6])\n",
    "    def save(self,path):\n",
    "        with open(path,\"w\") as f:\n",
    "            for i in self.data:\n",
    "                lia=i[\"Liaison\"]\n",
    "                f.write(f\"{lia.id}\\t{lia.get_name()}\\t{lia.get_tel()}\\t{lia.get_email()}\\t{lia.get_profile()}\\t{i['insert_time']}\\t{i['update_time']}\")\n",
    "                f.write('\\n')"
   ]
  },
  {
   "cell_type": "markdown",
   "metadata": {
    "pycharm": {
     "name": "#%% md\n"
    }
   },
   "source": [
    "##### （三）实现测试类\n",
    "分析：\n",
    "* 需要建立联系人以及通讯录\n",
    "* 测试通讯录相关方法\n",
    "###### 代码如下："
   ]
  },
  {
   "cell_type": "code",
   "execution_count": 58,
   "metadata": {
    "pycharm": {
     "name": "#%%\n"
    }
   },
   "outputs": [],
   "source": [
    "class test(AddressBook):\n",
    "    def __init__(self):\n",
    "        AddressBook.__init__(self)\n",
    "    def make(self,n):\n",
    "        f=Faker(locale=\"zh-CN\")\n",
    "        for i in range(n):\n",
    "            self.add_contact(Liaison(f.name(),f.phone_number(),f.email(),Profile(f.file_path(),f.random_int(),f.random_int())))\n",
    "    def show(self,n):\n",
    "        for i in self.data[0:n]:\n",
    "            lia=i[\"Liaison\"]\n",
    "            print(f\"id:{lia.id}; name:{lia.get_name()}; tel:{lia.get_tel()}; email:{lia.get_email()}; profile:{lia.get_profile()}; insert_time:{i['insert_time']}; update_time:{i['update_time']}\")\n",
    "    def search(self,item,attri):\n",
    "        if item=='email':\n",
    "            return self.search_byemail(attri)\n",
    "        elif item=='tel':\n",
    "            return self.search_bytel(attri)\n",
    "        elif item=='name':\n",
    "            return self.search_byname(attri)\n",
    "        else:\n",
    "            return(f'Cannot use {item} as a search index.')\n",
    "    def update(self,item,item_value,attri,new_attri):\n",
    "        if item=='email':\n",
    "            return self.update_byemail(item_value,attri,new_attri)\n",
    "        elif item=='tel':\n",
    "            return self.update_bytel(item_value,attri,new_attri)\n",
    "        elif item=='name':\n",
    "            return self.update_byname(item_value,attri,new_attri)\n",
    "        else:\n",
    "            return(f'Cannot use {item} as a search index.')"
   ]
  },
  {
   "cell_type": "markdown",
   "metadata": {
    "pycharm": {
     "name": "#%% md\n"
    }
   },
   "source": [
    "##### （四）测试\n",
    "分析：\n",
    "* 测试初始化\n",
    "* 测试加入联系人\n",
    "* 测试搜索以及更新操作\n",
    "* 测试文件读入以及写入操作"
   ]
  },
  {
   "cell_type": "code",
   "execution_count": 59,
   "metadata": {
    "pycharm": {
     "name": "#%%\n"
    }
   },
   "outputs": [],
   "source": [
    "'''测试'''\n",
    "b=test()\n",
    "b.make(100)"
   ]
  },
  {
   "cell_type": "code",
   "execution_count": 60,
   "metadata": {},
   "outputs": [
    {
     "name": "stdout",
     "output_type": "stream",
     "text": [
      "id:1; name:刘晨; tel:15135409213; email:lei03@hotmail.com; profile:<__main__.Profile object at 0x000001D78D1E2730>; insert_time:2020-10-24 18:04:09; update_time:2020-10-24 18:04:09\n",
      "id:2; name:杨凯; tel:13515532187; email:taoqiu@yang.cn; profile:<__main__.Profile object at 0x000001D78D1E2340>; insert_time:2020-10-24 18:04:09; update_time:2020-10-24 18:04:09\n",
      "id:3; name:魏秀英; tel:18829264181; email:cuiyang@zengxiao.cn; profile:<__main__.Profile object at 0x000001D78D1E29D0>; insert_time:2020-10-24 18:04:09; update_time:2020-10-24 18:04:09\n",
      "id:4; name:李健; tel:13838157051; email:juan05@yahoo.com; profile:<__main__.Profile object at 0x000001D78D1E2700>; insert_time:2020-10-24 18:04:09; update_time:2020-10-24 18:04:09\n",
      "id:5; name:谢桂兰; tel:18772385781; email:fanggang@eu.cn; profile:<__main__.Profile object at 0x000001D78D1B0A00>; insert_time:2020-10-24 18:04:09; update_time:2020-10-24 18:04:09\n",
      "id:6; name:王敏; tel:18875104986; email:tianxiulan@yahoo.com; profile:<__main__.Profile object at 0x000001D78D1B0070>; insert_time:2020-10-24 18:04:09; update_time:2020-10-24 18:04:09\n",
      "id:7; name:张淑兰; tel:13480170931; email:jie53@yahoo.com; profile:<__main__.Profile object at 0x000001D78D1B0E20>; insert_time:2020-10-24 18:04:09; update_time:2020-10-24 18:04:09\n",
      "id:8; name:孔璐; tel:18840113507; email:ptang@qiangye.cn; profile:<__main__.Profile object at 0x000001D78D1B0640>; insert_time:2020-10-24 18:04:09; update_time:2020-10-24 18:04:09\n",
      "id:9; name:黄红; tel:15046664312; email:xiulanqian@54.cn; profile:<__main__.Profile object at 0x000001D78D1B0040>; insert_time:2020-10-24 18:04:09; update_time:2020-10-24 18:04:09\n",
      "id:10; name:柯军; tel:14775745916; email:nadong@juansun.cn; profile:<__main__.Profile object at 0x000001D78D1B08E0>; insert_time:2020-10-24 18:04:09; update_time:2020-10-24 18:04:09\n",
      "Totally:100\n"
     ]
    }
   ],
   "source": [
    "b.show(10)\n",
    "print(f'Totally:{b.number}')\n",
    "b.save(r'D:\\大学资料\\大三上资料\\现代程序设计\\联系人\\addressbook.txt')"
   ]
  },
  {
   "cell_type": "code",
   "execution_count": 61,
   "metadata": {
    "pycharm": {
     "name": "#%%\n"
    },
    "scrolled": false
   },
   "outputs": [
    {
     "name": "stdout",
     "output_type": "stream",
     "text": [
      "[]\n",
      "修改前： id:1; name:刘晨; tel:15135409213; email:lei03@hotmail.com; profile:<__main__.Profile object at 0x000001D78D1E2730>;\n",
      "修改后： id:1; name:孙文; tel:15135409213; email:lei03@hotmail.com; profile:<__main__.Profile object at 0x000001D78D1E2730>;\n",
      "100\n",
      "id:101; name:刘晨; tel:15135409213; email:lei03@hotmail.com; profile:<__main__.Profile object at 0x000001D78D1E2730>; insert_time:2020-10-24 18:04:09; update_time:2020-10-24 18:04:09\n",
      "id:102; name:杨凯; tel:13515532187; email:taoqiu@yang.cn; profile:<__main__.Profile object at 0x000001D78D1E2340>; insert_time:2020-10-24 18:04:09; update_time:2020-10-24 18:04:09\n",
      "id:103; name:魏秀英; tel:18829264181; email:cuiyang@zengxiao.cn; profile:<__main__.Profile object at 0x000001D78D1E29D0>; insert_time:2020-10-24 18:04:09; update_time:2020-10-24 18:04:09\n",
      "id:104; name:李健; tel:13838157051; email:juan05@yahoo.com; profile:<__main__.Profile object at 0x000001D78D1E2700>; insert_time:2020-10-24 18:04:09; update_time:2020-10-24 18:04:09\n",
      "id:105; name:谢桂兰; tel:18772385781; email:fanggang@eu.cn; profile:<__main__.Profile object at 0x000001D78D1B0A00>; insert_time:2020-10-24 18:04:09; update_time:2020-10-24 18:04:09\n",
      "id:106; name:王敏; tel:18875104986; email:tianxiulan@yahoo.com; profile:<__main__.Profile object at 0x000001D78D1B0070>; insert_time:2020-10-24 18:04:09; update_time:2020-10-24 18:04:09\n",
      "id:107; name:张淑兰; tel:13480170931; email:jie53@yahoo.com; profile:<__main__.Profile object at 0x000001D78D1B0E20>; insert_time:2020-10-24 18:04:09; update_time:2020-10-24 18:04:09\n",
      "id:108; name:孔璐; tel:18840113507; email:ptang@qiangye.cn; profile:<__main__.Profile object at 0x000001D78D1B0640>; insert_time:2020-10-24 18:04:09; update_time:2020-10-24 18:04:09\n",
      "id:109; name:黄红; tel:15046664312; email:xiulanqian@54.cn; profile:<__main__.Profile object at 0x000001D78D1B0040>; insert_time:2020-10-24 18:04:09; update_time:2020-10-24 18:04:09\n",
      "id:110; name:柯军; tel:14775745916; email:nadong@juansun.cn; profile:<__main__.Profile object at 0x000001D78D1B08E0>; insert_time:2020-10-24 18:04:09; update_time:2020-10-24 18:04:09\n"
     ]
    }
   ],
   "source": [
    "c=b.search('name','孙文')\n",
    "print(c)\n",
    "print(f\"修改前：\",end=' ')\n",
    "b.search('tel',b.data[0]['Liaison'].tel)[0]['Liaison'].show()\n",
    "b.update('tel',b.data[0]['Liaison'].tel,'name','孙文')\n",
    "print(f\"修改后：\",end=' ')\n",
    "b.search('tel',b.data[0]['Liaison'].tel)[0]['Liaison'].show()\n",
    "c=b.search('name','孙文')\n",
    "c=test()\n",
    "c.load(r'D:\\大学资料\\大三上资料\\现代程序设计\\联系人\\addressbook.txt')\n",
    "print(c.number)\n",
    "c.show(10)"
   ]
  },
  {
   "cell_type": "code",
   "execution_count": null,
   "metadata": {},
   "outputs": [],
   "source": []
  }
 ],
 "metadata": {
  "kernelspec": {
   "display_name": "Python 3",
   "language": "python",
   "name": "python3"
  },
  "language_info": {
   "codemirror_mode": {
    "name": "ipython",
    "version": 3
   },
   "file_extension": ".py",
   "mimetype": "text/x-python",
   "name": "python",
   "nbconvert_exporter": "python",
   "pygments_lexer": "ipython3",
   "version": "3.8.0"
  }
 },
 "nbformat": 4,
 "nbformat_minor": 4
}
